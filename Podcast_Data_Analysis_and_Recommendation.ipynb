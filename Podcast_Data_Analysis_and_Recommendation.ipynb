{
  "nbformat": 4,
  "nbformat_minor": 0,
  "metadata": {
    "colab": {
      "provenance": [],
      "authorship_tag": "ABX9TyMzBn9lp7nwKUW0JAzF+6Rj",
      "include_colab_link": true
    },
    "kernelspec": {
      "name": "python3",
      "display_name": "Python 3"
    },
    "language_info": {
      "name": "python"
    }
  },
  "cells": [
    {
      "cell_type": "markdown",
      "metadata": {
        "id": "view-in-github",
        "colab_type": "text"
      },
      "source": [
        "<a href=\"https://colab.research.google.com/github/LamaAlQarni/Podcast-data-analysis-and-recommendation/blob/main/Podcast_Data_Analysis_and_Recommendation.ipynb\" target=\"_parent\"><img src=\"https://colab.research.google.com/assets/colab-badge.svg\" alt=\"Open In Colab\"/></a>"
      ]
    },
    {
      "cell_type": "markdown",
      "source": [
        "# **Podcast Data Analysis and Recommendation**"
      ],
      "metadata": {
        "id": "pC8UDCUHaVMN"
      }
    },
    {
      "cell_type": "markdown",
      "source": [
        "This is Thmanyah Podcast's Assigment which contains Three types of datasets:\n",
        "- **users.csv** contains the users info\n",
        "- **episodes.csv** contains the episodes info\n",
        "- **listens.json** conatins the records for each episode listeners"
      ],
      "metadata": {
        "id": "6lYIeIIlaczx"
      }
    },
    {
      "cell_type": "markdown",
      "source": [
        "This notebook is devided into three sections:\n",
        "## Table of Contents\n",
        "1. [Data Processing](#data-processing)\n",
        "2. [Exploratory Data Analysis](#eda)\n",
        "  - [Q1: The most listened to categories](#q1)\n",
        "  - [Q2: Listening duration differences by gender](#q2)\n",
        "  - [Q3: The average number of episodes per user](#q3)\n",
        "  - [Q4: The most listened categories per gender](#q4)\n",
        "  - [Q5: Top listening countries & their preferred categories](#q5)\n",
        "  - [Q6: The most listening age group](#q6)\n",
        "  - [Q7: The most popular duration time for episodes](#q7)\n",
        "3. [Personalized Recommendation Generation](#rec)\n",
        "  - [Demography-based](#demo)\n",
        "  - [Age Group-based](#age)"
      ],
      "metadata": {
        "id": "wOHX5J4xbe2V"
      }
    },
    {
      "cell_type": "markdown",
      "source": [
        "### Setting the dependencies and importings"
      ],
      "metadata": {
        "id": "t1r3Y9NjcVu0"
      }
    },
    {
      "cell_type": "code",
      "execution_count": 1,
      "metadata": {
        "id": "-csxpKau4VoR"
      },
      "outputs": [],
      "source": [
        "from IPython.display import clear_output\n",
        "!gdown '1o2T_6eoP2HCKDjV5-4KMSpI5Hvle6TvD'\n",
        "!unzip assignment.zip -d data\n",
        "!pip install arabic-reshaper python-bidi\n",
        "!git clone https://github.com/aliftype/amiri.git\n",
        "clear_output() #Comment this to see logs if there is an error"
      ]
    },
    {
      "cell_type": "code",
      "source": [
        "import pandas as pd\n",
        "import numpy as np\n",
        "import matplotlib.pyplot as plt\n",
        "import seaborn as sns\n",
        "import arabic_reshaper\n",
        "from bidi.algorithm import get_display\n",
        "from matplotlib import font_manager\n",
        "import warnings\n",
        "warnings.filterwarnings('ignore') #again remove this is if you want to see warnings\n",
        "\n",
        "#for a better Arabic font :))\n",
        "font_path = \"./amiri/fonts/Amiri-Regular.ttf\"\n",
        "font_prop = font_manager.FontProperties(fname=font_path)"
      ],
      "metadata": {
        "id": "4I18Js915hF3"
      },
      "execution_count": 2,
      "outputs": []
    },
    {
      "cell_type": "markdown",
      "source": [
        "## **Data Processing** <a name=\"data-processing\"></a>"
      ],
      "metadata": {
        "id": "MdCM83sYcgoN"
      }
    },
    {
      "cell_type": "code",
      "source": [
        "#read all the three datasets\n",
        "users_df = pd.read_csv('./data/users.csv')\n",
        "episodes_df = pd.read_csv('./data/episodes.csv')\n",
        "listens_df = pd.read_json('./data/listens.json')"
      ],
      "metadata": {
        "id": "1S4tgHLg4lSc"
      },
      "execution_count": 3,
      "outputs": []
    },
    {
      "cell_type": "code",
      "source": [
        "print(users_df.info(), end=\"\\n\"+50*\"-\"+\"\\n\")\n",
        "print(episodes_df.info(),end=\"\\n\"+50*\"-\"+\"\\n\")\n",
        "print(listens_df.info())"
      ],
      "metadata": {
        "colab": {
          "base_uri": "https://localhost:8080/"
        },
        "id": "_hh7K_nq8U5k",
        "outputId": "a0b88911-c6fe-49fa-d5cd-0e384406508a"
      },
      "execution_count": 4,
      "outputs": [
        {
          "output_type": "stream",
          "name": "stdout",
          "text": [
            "<class 'pandas.core.frame.DataFrame'>\n",
            "RangeIndex: 20 entries, 0 to 19\n",
            "Data columns (total 4 columns):\n",
            " #   Column   Non-Null Count  Dtype \n",
            "---  ------   --------------  ----- \n",
            " 0   user_id  20 non-null     int64 \n",
            " 1   age      20 non-null     int64 \n",
            " 2   gender   20 non-null     object\n",
            " 3   country  20 non-null     object\n",
            "dtypes: int64(2), object(2)\n",
            "memory usage: 772.0+ bytes\n",
            "None\n",
            "--------------------------------------------------\n",
            "<class 'pandas.core.frame.DataFrame'>\n",
            "RangeIndex: 30 entries, 0 to 29\n",
            "Data columns (total 3 columns):\n",
            " #   Column      Non-Null Count  Dtype \n",
            "---  ------      --------------  ----- \n",
            " 0   episode_id  30 non-null     int64 \n",
            " 1   title       30 non-null     object\n",
            " 2   category    30 non-null     object\n",
            "dtypes: int64(1), object(2)\n",
            "memory usage: 852.0+ bytes\n",
            "None\n",
            "--------------------------------------------------\n",
            "<class 'pandas.core.frame.DataFrame'>\n",
            "RangeIndex: 100 entries, 0 to 99\n",
            "Data columns (total 3 columns):\n",
            " #   Column            Non-Null Count  Dtype\n",
            "---  ------            --------------  -----\n",
            " 0   user_id           100 non-null    int64\n",
            " 1   episode_id        100 non-null    int64\n",
            " 2   duration_seconds  100 non-null    int64\n",
            "dtypes: int64(3)\n",
            "memory usage: 2.5 KB\n",
            "None\n"
          ]
        }
      ]
    },
    {
      "cell_type": "code",
      "source": [
        "#Check datasets values validity\n",
        "#Users Dataset\n",
        "print(\"Number of unique ids :\",users_df['user_id'].nunique())\n",
        "print(\"Number of unique ages :\",users_df['age'].nunique())\n",
        "print(\"Number of unique genders :\",users_df['gender'].nunique(),'genders that are',users_df['gender'].unique())\n",
        "print(\"Number of unique countries :\",users_df['country'].nunique(),'countries that are',users_df['country'].unique())\n",
        "#Check the range of the ages\n",
        "users_df['age'].describe()"
      ],
      "metadata": {
        "colab": {
          "base_uri": "https://localhost:8080/",
          "height": 404
        },
        "id": "7t3jWxcnHXyT",
        "outputId": "48e1d272-5d03-4c41-9abd-dc653b297d5d"
      },
      "execution_count": 5,
      "outputs": [
        {
          "output_type": "stream",
          "name": "stdout",
          "text": [
            "Number of unique ids : 20\n",
            "Number of unique ages : 16\n",
            "Number of unique genders : 2 genders that are ['female' 'male']\n",
            "Number of unique countries : 5 countries that are ['Morocco' 'Jordan' 'Saudi Arabia' 'Egypt' 'UAE']\n"
          ]
        },
        {
          "output_type": "execute_result",
          "data": {
            "text/plain": [
              "count    20.000000\n",
              "mean     40.200000\n",
              "std      11.349009\n",
              "min      19.000000\n",
              "25%      31.500000\n",
              "50%      42.000000\n",
              "75%      46.500000\n",
              "max      59.000000\n",
              "Name: age, dtype: float64"
            ],
            "text/html": [
              "<div>\n",
              "<style scoped>\n",
              "    .dataframe tbody tr th:only-of-type {\n",
              "        vertical-align: middle;\n",
              "    }\n",
              "\n",
              "    .dataframe tbody tr th {\n",
              "        vertical-align: top;\n",
              "    }\n",
              "\n",
              "    .dataframe thead th {\n",
              "        text-align: right;\n",
              "    }\n",
              "</style>\n",
              "<table border=\"1\" class=\"dataframe\">\n",
              "  <thead>\n",
              "    <tr style=\"text-align: right;\">\n",
              "      <th></th>\n",
              "      <th>age</th>\n",
              "    </tr>\n",
              "  </thead>\n",
              "  <tbody>\n",
              "    <tr>\n",
              "      <th>count</th>\n",
              "      <td>20.000000</td>\n",
              "    </tr>\n",
              "    <tr>\n",
              "      <th>mean</th>\n",
              "      <td>40.200000</td>\n",
              "    </tr>\n",
              "    <tr>\n",
              "      <th>std</th>\n",
              "      <td>11.349009</td>\n",
              "    </tr>\n",
              "    <tr>\n",
              "      <th>min</th>\n",
              "      <td>19.000000</td>\n",
              "    </tr>\n",
              "    <tr>\n",
              "      <th>25%</th>\n",
              "      <td>31.500000</td>\n",
              "    </tr>\n",
              "    <tr>\n",
              "      <th>50%</th>\n",
              "      <td>42.000000</td>\n",
              "    </tr>\n",
              "    <tr>\n",
              "      <th>75%</th>\n",
              "      <td>46.500000</td>\n",
              "    </tr>\n",
              "    <tr>\n",
              "      <th>max</th>\n",
              "      <td>59.000000</td>\n",
              "    </tr>\n",
              "  </tbody>\n",
              "</table>\n",
              "</div><br><label><b>dtype:</b> float64</label>"
            ]
          },
          "metadata": {},
          "execution_count": 5
        }
      ]
    },
    {
      "cell_type": "code",
      "source": [
        "#Episodes Dataset\n",
        "print(\"Number of unique ids :\",episodes_df['episode_id'].nunique())\n",
        "print(\"Number of unique titles :\",episodes_df['title'].nunique())\n",
        "print(\"Number of unique categories :\",episodes_df['category'].nunique(),'categories that are',episodes_df['category'].unique())"
      ],
      "metadata": {
        "colab": {
          "base_uri": "https://localhost:8080/"
        },
        "id": "ToM-YQ1uH-6Q",
        "outputId": "5e097283-3b4d-49a8-b678-fc67201fc458"
      },
      "execution_count": 6,
      "outputs": [
        {
          "output_type": "stream",
          "name": "stdout",
          "text": [
            "Number of unique ids : 30\n",
            "Number of unique titles : 30\n",
            "Number of unique categories : 6 categories that are ['Religion' 'Technology' 'Society' 'News' 'Politics' 'Sports']\n"
          ]
        }
      ]
    },
    {
      "cell_type": "code",
      "source": [
        "#Listens Dataset\n",
        "print(\"Number of unique ids :\",listens_df['user_id'].nunique())\n",
        "print(\"Number of unique ids :\",listens_df['episode_id'].nunique())\n",
        "print(\"Number of unique durations (in seconds) :\",listens_df['duration_seconds'].nunique(),'durantion types that are', np.sort(listens_df['duration_seconds'].unique()))\n",
        "#Check how many 0-durations\n",
        "print(f\"There is {len(listens_df[listens_df['duration_seconds']==0])} zero-durations in the dataset.\") #zero-duration indicates that the user didn't listen to anything :))"
      ],
      "metadata": {
        "colab": {
          "base_uri": "https://localhost:8080/"
        },
        "id": "sxOG3Y80Hmqj",
        "outputId": "5de9bd3d-14f7-4d3a-ac0b-8a726cd07ac8"
      },
      "execution_count": 7,
      "outputs": [
        {
          "output_type": "stream",
          "name": "stdout",
          "text": [
            "Number of unique ids : 19\n",
            "Number of unique ids : 30\n",
            "Number of unique durations (in seconds) : 7 durantion types that are [   0   60  120  300  900 1500 1800]\n",
            "There is 13 zero-durations in the dataset.\n"
          ]
        }
      ]
    },
    {
      "cell_type": "code",
      "source": [
        "users_df[~users_df['user_id'].isin(listens_df['user_id'])] #this user has never opened a podcast, not even listened with a zero-duration (not useful line but i was curious :) )"
      ],
      "metadata": {
        "colab": {
          "base_uri": "https://localhost:8080/",
          "height": 81
        },
        "id": "1fWJBBKc42mX",
        "outputId": "1f028158-e0d3-4bbe-b5bd-f4c908195325"
      },
      "execution_count": 8,
      "outputs": [
        {
          "output_type": "execute_result",
          "data": {
            "text/plain": [
              "    user_id  age  gender country\n",
              "12       13   40  female  Jordan"
            ],
            "text/html": [
              "\n",
              "  <div id=\"df-bd491293-8506-412e-9714-d27ef00dfabc\" class=\"colab-df-container\">\n",
              "    <div>\n",
              "<style scoped>\n",
              "    .dataframe tbody tr th:only-of-type {\n",
              "        vertical-align: middle;\n",
              "    }\n",
              "\n",
              "    .dataframe tbody tr th {\n",
              "        vertical-align: top;\n",
              "    }\n",
              "\n",
              "    .dataframe thead th {\n",
              "        text-align: right;\n",
              "    }\n",
              "</style>\n",
              "<table border=\"1\" class=\"dataframe\">\n",
              "  <thead>\n",
              "    <tr style=\"text-align: right;\">\n",
              "      <th></th>\n",
              "      <th>user_id</th>\n",
              "      <th>age</th>\n",
              "      <th>gender</th>\n",
              "      <th>country</th>\n",
              "    </tr>\n",
              "  </thead>\n",
              "  <tbody>\n",
              "    <tr>\n",
              "      <th>12</th>\n",
              "      <td>13</td>\n",
              "      <td>40</td>\n",
              "      <td>female</td>\n",
              "      <td>Jordan</td>\n",
              "    </tr>\n",
              "  </tbody>\n",
              "</table>\n",
              "</div>\n",
              "    <div class=\"colab-df-buttons\">\n",
              "\n",
              "  <div class=\"colab-df-container\">\n",
              "    <button class=\"colab-df-convert\" onclick=\"convertToInteractive('df-bd491293-8506-412e-9714-d27ef00dfabc')\"\n",
              "            title=\"Convert this dataframe to an interactive table.\"\n",
              "            style=\"display:none;\">\n",
              "\n",
              "  <svg xmlns=\"http://www.w3.org/2000/svg\" height=\"24px\" viewBox=\"0 -960 960 960\">\n",
              "    <path d=\"M120-120v-720h720v720H120Zm60-500h600v-160H180v160Zm220 220h160v-160H400v160Zm0 220h160v-160H400v160ZM180-400h160v-160H180v160Zm440 0h160v-160H620v160ZM180-180h160v-160H180v160Zm440 0h160v-160H620v160Z\"/>\n",
              "  </svg>\n",
              "    </button>\n",
              "\n",
              "  <style>\n",
              "    .colab-df-container {\n",
              "      display:flex;\n",
              "      gap: 12px;\n",
              "    }\n",
              "\n",
              "    .colab-df-convert {\n",
              "      background-color: #E8F0FE;\n",
              "      border: none;\n",
              "      border-radius: 50%;\n",
              "      cursor: pointer;\n",
              "      display: none;\n",
              "      fill: #1967D2;\n",
              "      height: 32px;\n",
              "      padding: 0 0 0 0;\n",
              "      width: 32px;\n",
              "    }\n",
              "\n",
              "    .colab-df-convert:hover {\n",
              "      background-color: #E2EBFA;\n",
              "      box-shadow: 0px 1px 2px rgba(60, 64, 67, 0.3), 0px 1px 3px 1px rgba(60, 64, 67, 0.15);\n",
              "      fill: #174EA6;\n",
              "    }\n",
              "\n",
              "    .colab-df-buttons div {\n",
              "      margin-bottom: 4px;\n",
              "    }\n",
              "\n",
              "    [theme=dark] .colab-df-convert {\n",
              "      background-color: #3B4455;\n",
              "      fill: #D2E3FC;\n",
              "    }\n",
              "\n",
              "    [theme=dark] .colab-df-convert:hover {\n",
              "      background-color: #434B5C;\n",
              "      box-shadow: 0px 1px 3px 1px rgba(0, 0, 0, 0.15);\n",
              "      filter: drop-shadow(0px 1px 2px rgba(0, 0, 0, 0.3));\n",
              "      fill: #FFFFFF;\n",
              "    }\n",
              "  </style>\n",
              "\n",
              "    <script>\n",
              "      const buttonEl =\n",
              "        document.querySelector('#df-bd491293-8506-412e-9714-d27ef00dfabc button.colab-df-convert');\n",
              "      buttonEl.style.display =\n",
              "        google.colab.kernel.accessAllowed ? 'block' : 'none';\n",
              "\n",
              "      async function convertToInteractive(key) {\n",
              "        const element = document.querySelector('#df-bd491293-8506-412e-9714-d27ef00dfabc');\n",
              "        const dataTable =\n",
              "          await google.colab.kernel.invokeFunction('convertToInteractive',\n",
              "                                                    [key], {});\n",
              "        if (!dataTable) return;\n",
              "\n",
              "        const docLinkHtml = 'Like what you see? Visit the ' +\n",
              "          '<a target=\"_blank\" href=https://colab.research.google.com/notebooks/data_table.ipynb>data table notebook</a>'\n",
              "          + ' to learn more about interactive tables.';\n",
              "        element.innerHTML = '';\n",
              "        dataTable['output_type'] = 'display_data';\n",
              "        await google.colab.output.renderOutput(dataTable, element);\n",
              "        const docLink = document.createElement('div');\n",
              "        docLink.innerHTML = docLinkHtml;\n",
              "        element.appendChild(docLink);\n",
              "      }\n",
              "    </script>\n",
              "  </div>\n",
              "\n",
              "\n",
              "    </div>\n",
              "  </div>\n"
            ],
            "application/vnd.google.colaboratory.intrinsic+json": {
              "type": "dataframe",
              "summary": "{\n  \"name\": \"users_df[~users_df['user_id']\",\n  \"rows\": 1,\n  \"fields\": [\n    {\n      \"column\": \"user_id\",\n      \"properties\": {\n        \"dtype\": \"number\",\n        \"std\": null,\n        \"min\": 13,\n        \"max\": 13,\n        \"num_unique_values\": 1,\n        \"samples\": [\n          13\n        ],\n        \"semantic_type\": \"\",\n        \"description\": \"\"\n      }\n    },\n    {\n      \"column\": \"age\",\n      \"properties\": {\n        \"dtype\": \"number\",\n        \"std\": null,\n        \"min\": 40,\n        \"max\": 40,\n        \"num_unique_values\": 1,\n        \"samples\": [\n          40\n        ],\n        \"semantic_type\": \"\",\n        \"description\": \"\"\n      }\n    },\n    {\n      \"column\": \"gender\",\n      \"properties\": {\n        \"dtype\": \"string\",\n        \"num_unique_values\": 1,\n        \"samples\": [\n          \"female\"\n        ],\n        \"semantic_type\": \"\",\n        \"description\": \"\"\n      }\n    },\n    {\n      \"column\": \"country\",\n      \"properties\": {\n        \"dtype\": \"string\",\n        \"num_unique_values\": 1,\n        \"samples\": [\n          \"Jordan\"\n        ],\n        \"semantic_type\": \"\",\n        \"description\": \"\"\n      }\n    }\n  ]\n}"
            }
          },
          "metadata": {},
          "execution_count": 8
        }
      ]
    },
    {
      "cell_type": "code",
      "source": [
        "listens_df=listens_df[listens_df['duration_seconds']>0] #ignore records with zero durations listening"
      ],
      "metadata": {
        "id": "HAZIwgisrQa5"
      },
      "execution_count": 9,
      "outputs": []
    },
    {
      "cell_type": "code",
      "source": [
        "user_episode_df=listens_df.merge(episodes_df, on='episode_id').merge(users_df, on='user_id')\n",
        "user_episode_df"
      ],
      "metadata": {
        "colab": {
          "base_uri": "https://localhost:8080/",
          "height": 424
        },
        "id": "K43oZbk449uw",
        "outputId": "fe714d1d-cf75-4fdf-e288-0cf41d0de9a3"
      },
      "execution_count": 10,
      "outputs": [
        {
          "output_type": "execute_result",
          "data": {
            "text/plain": [
              "    user_id  episode_id  duration_seconds       title    category  age  \\\n",
              "0        16          30                60  Episode 30      Sports   24   \n",
              "1         6           8               120   Episode 8      Sports   59   \n",
              "2         6          13                60  Episode 13     Society   59   \n",
              "3         6          27              1500  Episode 27        News   59   \n",
              "4        17           9              1500   Episode 9      Sports   21   \n",
              "..      ...         ...               ...         ...         ...  ...   \n",
              "82       16          28               900  Episode 28        News   24   \n",
              "83       19           9                60   Episode 9      Sports   42   \n",
              "84       12           2              1500   Episode 2  Technology   52   \n",
              "85        1           1              1800   Episode 1    Religion   38   \n",
              "86       15          16               900  Episode 16    Politics   42   \n",
              "\n",
              "    gender       country  \n",
              "0   female  Saudi Arabia  \n",
              "1     male       Morocco  \n",
              "2     male       Morocco  \n",
              "3     male       Morocco  \n",
              "4     male  Saudi Arabia  \n",
              "..     ...           ...  \n",
              "82  female  Saudi Arabia  \n",
              "83    male         Egypt  \n",
              "84  female        Jordan  \n",
              "85  female       Morocco  \n",
              "86    male           UAE  \n",
              "\n",
              "[87 rows x 8 columns]"
            ],
            "text/html": [
              "\n",
              "  <div id=\"df-0937130e-8072-4e2d-bbf4-a66a42a508c8\" class=\"colab-df-container\">\n",
              "    <div>\n",
              "<style scoped>\n",
              "    .dataframe tbody tr th:only-of-type {\n",
              "        vertical-align: middle;\n",
              "    }\n",
              "\n",
              "    .dataframe tbody tr th {\n",
              "        vertical-align: top;\n",
              "    }\n",
              "\n",
              "    .dataframe thead th {\n",
              "        text-align: right;\n",
              "    }\n",
              "</style>\n",
              "<table border=\"1\" class=\"dataframe\">\n",
              "  <thead>\n",
              "    <tr style=\"text-align: right;\">\n",
              "      <th></th>\n",
              "      <th>user_id</th>\n",
              "      <th>episode_id</th>\n",
              "      <th>duration_seconds</th>\n",
              "      <th>title</th>\n",
              "      <th>category</th>\n",
              "      <th>age</th>\n",
              "      <th>gender</th>\n",
              "      <th>country</th>\n",
              "    </tr>\n",
              "  </thead>\n",
              "  <tbody>\n",
              "    <tr>\n",
              "      <th>0</th>\n",
              "      <td>16</td>\n",
              "      <td>30</td>\n",
              "      <td>60</td>\n",
              "      <td>Episode 30</td>\n",
              "      <td>Sports</td>\n",
              "      <td>24</td>\n",
              "      <td>female</td>\n",
              "      <td>Saudi Arabia</td>\n",
              "    </tr>\n",
              "    <tr>\n",
              "      <th>1</th>\n",
              "      <td>6</td>\n",
              "      <td>8</td>\n",
              "      <td>120</td>\n",
              "      <td>Episode 8</td>\n",
              "      <td>Sports</td>\n",
              "      <td>59</td>\n",
              "      <td>male</td>\n",
              "      <td>Morocco</td>\n",
              "    </tr>\n",
              "    <tr>\n",
              "      <th>2</th>\n",
              "      <td>6</td>\n",
              "      <td>13</td>\n",
              "      <td>60</td>\n",
              "      <td>Episode 13</td>\n",
              "      <td>Society</td>\n",
              "      <td>59</td>\n",
              "      <td>male</td>\n",
              "      <td>Morocco</td>\n",
              "    </tr>\n",
              "    <tr>\n",
              "      <th>3</th>\n",
              "      <td>6</td>\n",
              "      <td>27</td>\n",
              "      <td>1500</td>\n",
              "      <td>Episode 27</td>\n",
              "      <td>News</td>\n",
              "      <td>59</td>\n",
              "      <td>male</td>\n",
              "      <td>Morocco</td>\n",
              "    </tr>\n",
              "    <tr>\n",
              "      <th>4</th>\n",
              "      <td>17</td>\n",
              "      <td>9</td>\n",
              "      <td>1500</td>\n",
              "      <td>Episode 9</td>\n",
              "      <td>Sports</td>\n",
              "      <td>21</td>\n",
              "      <td>male</td>\n",
              "      <td>Saudi Arabia</td>\n",
              "    </tr>\n",
              "    <tr>\n",
              "      <th>...</th>\n",
              "      <td>...</td>\n",
              "      <td>...</td>\n",
              "      <td>...</td>\n",
              "      <td>...</td>\n",
              "      <td>...</td>\n",
              "      <td>...</td>\n",
              "      <td>...</td>\n",
              "      <td>...</td>\n",
              "    </tr>\n",
              "    <tr>\n",
              "      <th>82</th>\n",
              "      <td>16</td>\n",
              "      <td>28</td>\n",
              "      <td>900</td>\n",
              "      <td>Episode 28</td>\n",
              "      <td>News</td>\n",
              "      <td>24</td>\n",
              "      <td>female</td>\n",
              "      <td>Saudi Arabia</td>\n",
              "    </tr>\n",
              "    <tr>\n",
              "      <th>83</th>\n",
              "      <td>19</td>\n",
              "      <td>9</td>\n",
              "      <td>60</td>\n",
              "      <td>Episode 9</td>\n",
              "      <td>Sports</td>\n",
              "      <td>42</td>\n",
              "      <td>male</td>\n",
              "      <td>Egypt</td>\n",
              "    </tr>\n",
              "    <tr>\n",
              "      <th>84</th>\n",
              "      <td>12</td>\n",
              "      <td>2</td>\n",
              "      <td>1500</td>\n",
              "      <td>Episode 2</td>\n",
              "      <td>Technology</td>\n",
              "      <td>52</td>\n",
              "      <td>female</td>\n",
              "      <td>Jordan</td>\n",
              "    </tr>\n",
              "    <tr>\n",
              "      <th>85</th>\n",
              "      <td>1</td>\n",
              "      <td>1</td>\n",
              "      <td>1800</td>\n",
              "      <td>Episode 1</td>\n",
              "      <td>Religion</td>\n",
              "      <td>38</td>\n",
              "      <td>female</td>\n",
              "      <td>Morocco</td>\n",
              "    </tr>\n",
              "    <tr>\n",
              "      <th>86</th>\n",
              "      <td>15</td>\n",
              "      <td>16</td>\n",
              "      <td>900</td>\n",
              "      <td>Episode 16</td>\n",
              "      <td>Politics</td>\n",
              "      <td>42</td>\n",
              "      <td>male</td>\n",
              "      <td>UAE</td>\n",
              "    </tr>\n",
              "  </tbody>\n",
              "</table>\n",
              "<p>87 rows × 8 columns</p>\n",
              "</div>\n",
              "    <div class=\"colab-df-buttons\">\n",
              "\n",
              "  <div class=\"colab-df-container\">\n",
              "    <button class=\"colab-df-convert\" onclick=\"convertToInteractive('df-0937130e-8072-4e2d-bbf4-a66a42a508c8')\"\n",
              "            title=\"Convert this dataframe to an interactive table.\"\n",
              "            style=\"display:none;\">\n",
              "\n",
              "  <svg xmlns=\"http://www.w3.org/2000/svg\" height=\"24px\" viewBox=\"0 -960 960 960\">\n",
              "    <path d=\"M120-120v-720h720v720H120Zm60-500h600v-160H180v160Zm220 220h160v-160H400v160Zm0 220h160v-160H400v160ZM180-400h160v-160H180v160Zm440 0h160v-160H620v160ZM180-180h160v-160H180v160Zm440 0h160v-160H620v160Z\"/>\n",
              "  </svg>\n",
              "    </button>\n",
              "\n",
              "  <style>\n",
              "    .colab-df-container {\n",
              "      display:flex;\n",
              "      gap: 12px;\n",
              "    }\n",
              "\n",
              "    .colab-df-convert {\n",
              "      background-color: #E8F0FE;\n",
              "      border: none;\n",
              "      border-radius: 50%;\n",
              "      cursor: pointer;\n",
              "      display: none;\n",
              "      fill: #1967D2;\n",
              "      height: 32px;\n",
              "      padding: 0 0 0 0;\n",
              "      width: 32px;\n",
              "    }\n",
              "\n",
              "    .colab-df-convert:hover {\n",
              "      background-color: #E2EBFA;\n",
              "      box-shadow: 0px 1px 2px rgba(60, 64, 67, 0.3), 0px 1px 3px 1px rgba(60, 64, 67, 0.15);\n",
              "      fill: #174EA6;\n",
              "    }\n",
              "\n",
              "    .colab-df-buttons div {\n",
              "      margin-bottom: 4px;\n",
              "    }\n",
              "\n",
              "    [theme=dark] .colab-df-convert {\n",
              "      background-color: #3B4455;\n",
              "      fill: #D2E3FC;\n",
              "    }\n",
              "\n",
              "    [theme=dark] .colab-df-convert:hover {\n",
              "      background-color: #434B5C;\n",
              "      box-shadow: 0px 1px 3px 1px rgba(0, 0, 0, 0.15);\n",
              "      filter: drop-shadow(0px 1px 2px rgba(0, 0, 0, 0.3));\n",
              "      fill: #FFFFFF;\n",
              "    }\n",
              "  </style>\n",
              "\n",
              "    <script>\n",
              "      const buttonEl =\n",
              "        document.querySelector('#df-0937130e-8072-4e2d-bbf4-a66a42a508c8 button.colab-df-convert');\n",
              "      buttonEl.style.display =\n",
              "        google.colab.kernel.accessAllowed ? 'block' : 'none';\n",
              "\n",
              "      async function convertToInteractive(key) {\n",
              "        const element = document.querySelector('#df-0937130e-8072-4e2d-bbf4-a66a42a508c8');\n",
              "        const dataTable =\n",
              "          await google.colab.kernel.invokeFunction('convertToInteractive',\n",
              "                                                    [key], {});\n",
              "        if (!dataTable) return;\n",
              "\n",
              "        const docLinkHtml = 'Like what you see? Visit the ' +\n",
              "          '<a target=\"_blank\" href=https://colab.research.google.com/notebooks/data_table.ipynb>data table notebook</a>'\n",
              "          + ' to learn more about interactive tables.';\n",
              "        element.innerHTML = '';\n",
              "        dataTable['output_type'] = 'display_data';\n",
              "        await google.colab.output.renderOutput(dataTable, element);\n",
              "        const docLink = document.createElement('div');\n",
              "        docLink.innerHTML = docLinkHtml;\n",
              "        element.appendChild(docLink);\n",
              "      }\n",
              "    </script>\n",
              "  </div>\n",
              "\n",
              "\n",
              "    <div id=\"df-e155c520-b4b1-4261-b294-a308ebaa0ed9\">\n",
              "      <button class=\"colab-df-quickchart\" onclick=\"quickchart('df-e155c520-b4b1-4261-b294-a308ebaa0ed9')\"\n",
              "                title=\"Suggest charts\"\n",
              "                style=\"display:none;\">\n",
              "\n",
              "<svg xmlns=\"http://www.w3.org/2000/svg\" height=\"24px\"viewBox=\"0 0 24 24\"\n",
              "     width=\"24px\">\n",
              "    <g>\n",
              "        <path d=\"M19 3H5c-1.1 0-2 .9-2 2v14c0 1.1.9 2 2 2h14c1.1 0 2-.9 2-2V5c0-1.1-.9-2-2-2zM9 17H7v-7h2v7zm4 0h-2V7h2v10zm4 0h-2v-4h2v4z\"/>\n",
              "    </g>\n",
              "</svg>\n",
              "      </button>\n",
              "\n",
              "<style>\n",
              "  .colab-df-quickchart {\n",
              "      --bg-color: #E8F0FE;\n",
              "      --fill-color: #1967D2;\n",
              "      --hover-bg-color: #E2EBFA;\n",
              "      --hover-fill-color: #174EA6;\n",
              "      --disabled-fill-color: #AAA;\n",
              "      --disabled-bg-color: #DDD;\n",
              "  }\n",
              "\n",
              "  [theme=dark] .colab-df-quickchart {\n",
              "      --bg-color: #3B4455;\n",
              "      --fill-color: #D2E3FC;\n",
              "      --hover-bg-color: #434B5C;\n",
              "      --hover-fill-color: #FFFFFF;\n",
              "      --disabled-bg-color: #3B4455;\n",
              "      --disabled-fill-color: #666;\n",
              "  }\n",
              "\n",
              "  .colab-df-quickchart {\n",
              "    background-color: var(--bg-color);\n",
              "    border: none;\n",
              "    border-radius: 50%;\n",
              "    cursor: pointer;\n",
              "    display: none;\n",
              "    fill: var(--fill-color);\n",
              "    height: 32px;\n",
              "    padding: 0;\n",
              "    width: 32px;\n",
              "  }\n",
              "\n",
              "  .colab-df-quickchart:hover {\n",
              "    background-color: var(--hover-bg-color);\n",
              "    box-shadow: 0 1px 2px rgba(60, 64, 67, 0.3), 0 1px 3px 1px rgba(60, 64, 67, 0.15);\n",
              "    fill: var(--button-hover-fill-color);\n",
              "  }\n",
              "\n",
              "  .colab-df-quickchart-complete:disabled,\n",
              "  .colab-df-quickchart-complete:disabled:hover {\n",
              "    background-color: var(--disabled-bg-color);\n",
              "    fill: var(--disabled-fill-color);\n",
              "    box-shadow: none;\n",
              "  }\n",
              "\n",
              "  .colab-df-spinner {\n",
              "    border: 2px solid var(--fill-color);\n",
              "    border-color: transparent;\n",
              "    border-bottom-color: var(--fill-color);\n",
              "    animation:\n",
              "      spin 1s steps(1) infinite;\n",
              "  }\n",
              "\n",
              "  @keyframes spin {\n",
              "    0% {\n",
              "      border-color: transparent;\n",
              "      border-bottom-color: var(--fill-color);\n",
              "      border-left-color: var(--fill-color);\n",
              "    }\n",
              "    20% {\n",
              "      border-color: transparent;\n",
              "      border-left-color: var(--fill-color);\n",
              "      border-top-color: var(--fill-color);\n",
              "    }\n",
              "    30% {\n",
              "      border-color: transparent;\n",
              "      border-left-color: var(--fill-color);\n",
              "      border-top-color: var(--fill-color);\n",
              "      border-right-color: var(--fill-color);\n",
              "    }\n",
              "    40% {\n",
              "      border-color: transparent;\n",
              "      border-right-color: var(--fill-color);\n",
              "      border-top-color: var(--fill-color);\n",
              "    }\n",
              "    60% {\n",
              "      border-color: transparent;\n",
              "      border-right-color: var(--fill-color);\n",
              "    }\n",
              "    80% {\n",
              "      border-color: transparent;\n",
              "      border-right-color: var(--fill-color);\n",
              "      border-bottom-color: var(--fill-color);\n",
              "    }\n",
              "    90% {\n",
              "      border-color: transparent;\n",
              "      border-bottom-color: var(--fill-color);\n",
              "    }\n",
              "  }\n",
              "</style>\n",
              "\n",
              "      <script>\n",
              "        async function quickchart(key) {\n",
              "          const quickchartButtonEl =\n",
              "            document.querySelector('#' + key + ' button');\n",
              "          quickchartButtonEl.disabled = true;  // To prevent multiple clicks.\n",
              "          quickchartButtonEl.classList.add('colab-df-spinner');\n",
              "          try {\n",
              "            const charts = await google.colab.kernel.invokeFunction(\n",
              "                'suggestCharts', [key], {});\n",
              "          } catch (error) {\n",
              "            console.error('Error during call to suggestCharts:', error);\n",
              "          }\n",
              "          quickchartButtonEl.classList.remove('colab-df-spinner');\n",
              "          quickchartButtonEl.classList.add('colab-df-quickchart-complete');\n",
              "        }\n",
              "        (() => {\n",
              "          let quickchartButtonEl =\n",
              "            document.querySelector('#df-e155c520-b4b1-4261-b294-a308ebaa0ed9 button');\n",
              "          quickchartButtonEl.style.display =\n",
              "            google.colab.kernel.accessAllowed ? 'block' : 'none';\n",
              "        })();\n",
              "      </script>\n",
              "    </div>\n",
              "\n",
              "  <div id=\"id_0209135c-c64e-4592-974b-6b1150fd31ab\">\n",
              "    <style>\n",
              "      .colab-df-generate {\n",
              "        background-color: #E8F0FE;\n",
              "        border: none;\n",
              "        border-radius: 50%;\n",
              "        cursor: pointer;\n",
              "        display: none;\n",
              "        fill: #1967D2;\n",
              "        height: 32px;\n",
              "        padding: 0 0 0 0;\n",
              "        width: 32px;\n",
              "      }\n",
              "\n",
              "      .colab-df-generate:hover {\n",
              "        background-color: #E2EBFA;\n",
              "        box-shadow: 0px 1px 2px rgba(60, 64, 67, 0.3), 0px 1px 3px 1px rgba(60, 64, 67, 0.15);\n",
              "        fill: #174EA6;\n",
              "      }\n",
              "\n",
              "      [theme=dark] .colab-df-generate {\n",
              "        background-color: #3B4455;\n",
              "        fill: #D2E3FC;\n",
              "      }\n",
              "\n",
              "      [theme=dark] .colab-df-generate:hover {\n",
              "        background-color: #434B5C;\n",
              "        box-shadow: 0px 1px 3px 1px rgba(0, 0, 0, 0.15);\n",
              "        filter: drop-shadow(0px 1px 2px rgba(0, 0, 0, 0.3));\n",
              "        fill: #FFFFFF;\n",
              "      }\n",
              "    </style>\n",
              "    <button class=\"colab-df-generate\" onclick=\"generateWithVariable('user_episode_df')\"\n",
              "            title=\"Generate code using this dataframe.\"\n",
              "            style=\"display:none;\">\n",
              "\n",
              "  <svg xmlns=\"http://www.w3.org/2000/svg\" height=\"24px\"viewBox=\"0 0 24 24\"\n",
              "       width=\"24px\">\n",
              "    <path d=\"M7,19H8.4L18.45,9,17,7.55,7,17.6ZM5,21V16.75L18.45,3.32a2,2,0,0,1,2.83,0l1.4,1.43a1.91,1.91,0,0,1,.58,1.4,1.91,1.91,0,0,1-.58,1.4L9.25,21ZM18.45,9,17,7.55Zm-12,3A5.31,5.31,0,0,0,4.9,8.1,5.31,5.31,0,0,0,1,6.5,5.31,5.31,0,0,0,4.9,4.9,5.31,5.31,0,0,0,6.5,1,5.31,5.31,0,0,0,8.1,4.9,5.31,5.31,0,0,0,12,6.5,5.46,5.46,0,0,0,6.5,12Z\"/>\n",
              "  </svg>\n",
              "    </button>\n",
              "    <script>\n",
              "      (() => {\n",
              "      const buttonEl =\n",
              "        document.querySelector('#id_0209135c-c64e-4592-974b-6b1150fd31ab button.colab-df-generate');\n",
              "      buttonEl.style.display =\n",
              "        google.colab.kernel.accessAllowed ? 'block' : 'none';\n",
              "\n",
              "      buttonEl.onclick = () => {\n",
              "        google.colab.notebook.generateWithVariable('user_episode_df');\n",
              "      }\n",
              "      })();\n",
              "    </script>\n",
              "  </div>\n",
              "\n",
              "    </div>\n",
              "  </div>\n"
            ],
            "application/vnd.google.colaboratory.intrinsic+json": {
              "type": "dataframe",
              "variable_name": "user_episode_df",
              "summary": "{\n  \"name\": \"user_episode_df\",\n  \"rows\": 87,\n  \"fields\": [\n    {\n      \"column\": \"user_id\",\n      \"properties\": {\n        \"dtype\": \"number\",\n        \"std\": 6,\n        \"min\": 1,\n        \"max\": 20,\n        \"num_unique_values\": 19,\n        \"samples\": [\n          16,\n          12,\n          5\n        ],\n        \"semantic_type\": \"\",\n        \"description\": \"\"\n      }\n    },\n    {\n      \"column\": \"episode_id\",\n      \"properties\": {\n        \"dtype\": \"number\",\n        \"std\": 9,\n        \"min\": 1,\n        \"max\": 30,\n        \"num_unique_values\": 27,\n        \"samples\": [\n          24,\n          12,\n          3\n        ],\n        \"semantic_type\": \"\",\n        \"description\": \"\"\n      }\n    },\n    {\n      \"column\": \"duration_seconds\",\n      \"properties\": {\n        \"dtype\": \"number\",\n        \"std\": 685,\n        \"min\": 60,\n        \"max\": 1800,\n        \"num_unique_values\": 6,\n        \"samples\": [\n          60,\n          120,\n          900\n        ],\n        \"semantic_type\": \"\",\n        \"description\": \"\"\n      }\n    },\n    {\n      \"column\": \"title\",\n      \"properties\": {\n        \"dtype\": \"category\",\n        \"num_unique_values\": 27,\n        \"samples\": [\n          \"Episode 24\",\n          \"Episode 12\",\n          \"Episode 3\"\n        ],\n        \"semantic_type\": \"\",\n        \"description\": \"\"\n      }\n    },\n    {\n      \"column\": \"category\",\n      \"properties\": {\n        \"dtype\": \"category\",\n        \"num_unique_values\": 6,\n        \"samples\": [\n          \"Sports\",\n          \"Society\",\n          \"Politics\"\n        ],\n        \"semantic_type\": \"\",\n        \"description\": \"\"\n      }\n    },\n    {\n      \"column\": \"age\",\n      \"properties\": {\n        \"dtype\": \"number\",\n        \"std\": 11,\n        \"min\": 19,\n        \"max\": 59,\n        \"num_unique_values\": 15,\n        \"samples\": [\n          51,\n          45,\n          24\n        ],\n        \"semantic_type\": \"\",\n        \"description\": \"\"\n      }\n    },\n    {\n      \"column\": \"gender\",\n      \"properties\": {\n        \"dtype\": \"category\",\n        \"num_unique_values\": 2,\n        \"samples\": [\n          \"male\",\n          \"female\"\n        ],\n        \"semantic_type\": \"\",\n        \"description\": \"\"\n      }\n    },\n    {\n      \"column\": \"country\",\n      \"properties\": {\n        \"dtype\": \"category\",\n        \"num_unique_values\": 5,\n        \"samples\": [\n          \"Morocco\",\n          \"Egypt\"\n        ],\n        \"semantic_type\": \"\",\n        \"description\": \"\"\n      }\n    }\n  ]\n}"
            }
          },
          "metadata": {},
          "execution_count": 10
        }
      ]
    },
    {
      "cell_type": "markdown",
      "source": [
        "## **Exploratory Data Analysis (EDA)** <a name=\"eda\"></a>"
      ],
      "metadata": {
        "id": "U-OJH83h8Xka"
      }
    },
    {
      "cell_type": "markdown",
      "source": [
        "### Q1: The most listened to categories?<a name=\"q1\"></a>"
      ],
      "metadata": {
        "id": "Y10XC8e0AuWx"
      }
    },
    {
      "cell_type": "markdown",
      "source": [
        "This indicates that Society and Sports atrracts more than 65% of the listeners."
      ],
      "metadata": {
        "id": "-WTxNJyzhfAR"
      }
    },
    {
      "cell_type": "code",
      "source": [
        "top_categories=user_episode_df.value_counts('category')\n",
        "sns.barplot(x=top_categories.values, y=top_categories.index)\n",
        "#I thought to make the figure labels in arabic since the audience are arabs\n",
        "#the problem is that it's right-to-left langauge, so the text will be reversed,\n",
        "#but no problem there is a library {arabic_reshaper} to reverse the text so the effect will be cancelled\n",
        "plt.title(get_display(arabic_reshaper.reshape('أكثر فئات الحلقات استماعًا')),fontproperties=font_prop)\n",
        "plt.xlabel(get_display(arabic_reshaper.reshape('عدد الاستماعات')),fontproperties=font_prop)\n",
        "plt.ylabel(get_display(arabic_reshaper.reshape('الفئة')),fontproperties=font_prop)\n",
        "\n",
        "for i, value in enumerate(top_categories.values):\n",
        "    plt.text(value + 0.3, i, str(value), va='center', fontsize=10,fontproperties=font_prop)\n",
        "\n",
        "#save fig\n",
        "plt.savefig('1-Most_listened-to_categories.png')\n",
        "plt.show()"
      ],
      "metadata": {
        "colab": {
          "base_uri": "https://localhost:8080/",
          "height": 470
        },
        "id": "Pbws8odW92V9",
        "outputId": "9b35d9a0-f2d6-4b5e-e846-3b5786704a1c"
      },
      "execution_count": 11,
      "outputs": [
        {
          "output_type": "display_data",
          "data": {
            "text/plain": [
              "<Figure size 640x480 with 1 Axes>"
            ],
            "image/png": "[encoded data removed]"
          },
          "metadata": {}
        }
      ]
    },
    {
      "cell_type": "markdown",
      "source": [
        "### Q2: Listening duration differences by gender? <a name=\"q2\"></a>\n"
      ],
      "metadata": {
        "id": "k5X3rLS8A5WY"
      }
    },
    {
      "cell_type": "markdown",
      "source": [
        "Generally, females listen to longer episodes compared to males: </br>\n",
        "~ **15.1 min** for women </br>\n",
        "~ **10.4 min** for men"
      ],
      "metadata": {
        "id": "YefcUj1Xh-5X"
      }
    },
    {
      "cell_type": "code",
      "source": [
        "gender_durations_mean=user_episode_df.groupby('gender')['duration_seconds'].mean()/60\n",
        "gender_durations_mean.plot(kind='bar')\n",
        "plt.title(get_display(arabic_reshaper.reshape('فرق في متوسط مدة الاستماع بين الذكور والإناث')),fontproperties=font_prop)\n",
        "plt.xlabel(get_display(arabic_reshaper.reshape('الجنس')),fontproperties=font_prop)\n",
        "plt.ylabel(get_display(arabic_reshaper.reshape('الوقت ( بالدقائق )')),fontproperties=font_prop)\n",
        "plt.xticks(rotation=0)\n",
        "\n",
        "for i, value in enumerate(gender_durations_mean):\n",
        "    plt.text(i, value , f\"{value:.2f}\", ha='center', va='bottom', fontsize=10,fontproperties=font_prop)\n",
        "\n",
        "plt.savefig('2-Listening_duration_by_gender.png')\n",
        "plt.show()"
      ],
      "metadata": {
        "colab": {
          "base_uri": "https://localhost:8080/",
          "height": 469
        },
        "id": "lexnggVW_dxS",
        "outputId": "aacdddf6-2619-4dac-9125-8f730fa81c98"
      },
      "execution_count": 12,
      "outputs": [
        {
          "output_type": "display_data",
          "data": {
            "text/plain": [
              "<Figure size 640x480 with 1 Axes>"
            ],
            "image/png": "[encoded data removed]"
          },
          "metadata": {}
        }
      ]
    },
    {
      "cell_type": "markdown",
      "source": [
        "### Q3: The average number of episodes per user? <a name=\"q3\"></a>\n"
      ],
      "metadata": {
        "id": "4U6T-EH1Bl_l"
      }
    },
    {
      "cell_type": "code",
      "source": [
        "n_episode_per_user=user_episode_df.groupby('user_id').count()['episode_id']\n",
        "print(f\"متوسط عدد الحلقات التي يستمع لها المستخدمين هي: {n_episode_per_user.mean():.3f}\")\n",
        "#plot a histogram for the number of episodes per user\n",
        "sns.histplot(n_episode_per_user.values,edgecolor='black')\n",
        "plt.title(get_display(arabic_reshaper.reshape('عدد الحلقات لكل مستمع')),fontproperties=font_prop)\n",
        "plt.xlabel(get_display(arabic_reshaper.reshape('عدد الحلقات')),fontproperties=font_prop)\n",
        "plt.ylabel(get_display(arabic_reshaper.reshape('عدد المستمعين')),fontproperties=font_prop)\n",
        "#vertical line for the average\n",
        "plt.axvline(n_episode_per_user.mean(), color='red', linestyle='--')\n",
        "#write the average value as lenged for the color red\n",
        "legend=plt.legend([get_display(arabic_reshaper.reshape('متوسط عدد الحلقات للفرد {:.3f}'.format(n_episode_per_user.mean())))])\n",
        "legend.get_title().set_fontproperties(font_prop)\n",
        "for text in legend.get_texts():\n",
        "    text.set_fontproperties(font_prop)\n",
        "\n",
        "plt.savefig('3-Average_number_of_episodes_per_user.png')\n",
        "plt.show()"
      ],
      "metadata": {
        "colab": {
          "base_uri": "https://localhost:8080/",
          "height": 484
        },
        "id": "t4_MnDrKAIx6",
        "outputId": "4673816c-80a3-4029-8e6f-136b650d3539"
      },
      "execution_count": 13,
      "outputs": [
        {
          "output_type": "stream",
          "name": "stdout",
          "text": [
            "متوسط عدد الحلقات التي يستمع لها المستخدمين هي: 4.579\n"
          ]
        },
        {
          "output_type": "display_data",
          "data": {
            "text/plain": [
              "<Figure size 640x480 with 1 Axes>"
            ],
            "image/png": "[encoded data removed]"
          },
          "metadata": {}
        }
      ]
    },
    {
      "cell_type": "markdown",
      "source": [
        "Additional questions:"
      ],
      "metadata": {
        "id": "eTq9AYo_Gq8f"
      }
    },
    {
      "cell_type": "markdown",
      "source": [
        "### Q4: The most listened categories per gender? <a name=\"q4\"></a>"
      ],
      "metadata": {
        "id": "g8gCTWBMKdJ-"
      }
    },
    {
      "cell_type": "code",
      "source": [
        "gender_category_counts =user_episode_df.groupby(['gender', 'category']).size().reset_index(name='count')\n",
        "\n",
        "# english to arabic text converting\n",
        "gender_map = {\n",
        "    'female': get_display(arabic_reshaper.reshape('أنثى')),\n",
        "    'male': get_display(arabic_reshaper.reshape('ذكر'))\n",
        "}\n",
        "gender_category_counts['gender'] = gender_category_counts['gender'].map(gender_map)\n",
        "\n",
        "plt.figure(figsize=(12, 6))\n",
        "ax=sns.barplot(data=gender_category_counts, x='count', y='category', hue='gender')\n",
        "\n",
        "for container in ax.containers:\n",
        "    ax.bar_label(container, fmt='%.0f', label_type='edge', padding=3,fontproperties=font_prop)\n",
        "\n",
        "plt.title(get_display(arabic_reshaper.reshape('عدد الاستماعات لكل فئة حسب الجنس')),fontproperties=font_prop)\n",
        "plt.xlabel(get_display(arabic_reshaper.reshape('عدد الاستماعات')),fontproperties=font_prop)\n",
        "plt.ylabel(get_display(arabic_reshaper.reshape('الفئة')),fontproperties=font_prop)\n",
        "legend=plt.legend(title=get_display(arabic_reshaper.reshape('الجنس')))\n",
        "legend.get_title().set_fontproperties(font_prop)\n",
        "for text in legend.get_texts():\n",
        "    text.set_fontproperties(font_prop)\n",
        "plt.tight_layout()\n",
        "plt.savefig('4-Most_listened_categories_per_gender.png')\n",
        "plt.show()"
      ],
      "metadata": {
        "colab": {
          "base_uri": "https://localhost:8080/",
          "height": 607
        },
        "id": "wOl6adM3LNzw",
        "outputId": "121151be-7779-4ff0-f928-68a82eab8eb5"
      },
      "execution_count": 14,
      "outputs": [
        {
          "output_type": "display_data",
          "data": {
            "text/plain": [
              "<Figure size 1200x600 with 1 Axes>"
            ],
            "image/png": "[encoded data removed]"
          },
          "metadata": {}
        }
      ]
    },
    {
      "cell_type": "markdown",
      "source": [
        " ### Q5: Top listening countries & their preferred categories? <a name=\"q5\"></a>\n",
        "\n",
        "\n"
      ],
      "metadata": {
        "id": "fdmf1VH-KgH4"
      }
    },
    {
      "cell_type": "code",
      "source": [
        "n_listening=user_episode_df.groupby('country').size().sort_values(ascending=False)\n",
        "n_listening.plot(kind='bar')\n",
        "\n",
        "plt.title(get_display(arabic_reshaper.reshape('البلدان الاكثر استماعاً')),fontproperties=font_prop)\n",
        "plt.xlabel(get_display(arabic_reshaper.reshape('البلد')),fontproperties=font_prop)\n",
        "plt.ylabel(get_display(arabic_reshaper.reshape('عدد الاستماعات')),fontproperties=font_prop)\n",
        "\n",
        "plt.xticks(rotation=0)\n",
        "\n",
        "for i, value in enumerate(n_listening):\n",
        "    plt.text(i, value +0.1, str(value), ha='center', va='bottom', fontsize=10,fontproperties=font_prop)\n",
        "\n",
        "plt.savefig('5-Top_listening_countries.png')\n",
        "plt.show()"
      ],
      "metadata": {
        "colab": {
          "base_uri": "https://localhost:8080/",
          "height": 468
        },
        "id": "A_BVeJ8OPI3u",
        "outputId": "0c314217-880a-4820-eec3-ebb81414660b"
      },
      "execution_count": 15,
      "outputs": [
        {
          "output_type": "display_data",
          "data": {
            "text/plain": [
              "<Figure size 640x480 with 1 Axes>"
            ],
            "image/png": "[encoded data removed]"
          },
          "metadata": {}
        }
      ]
    },
    {
      "cell_type": "code",
      "source": [
        "country_category_counts = user_episode_df.groupby(['country', 'category']).size().reset_index(name='count')\n",
        "\n",
        "plt.figure(figsize=(14, 7))\n",
        "ax = sns.barplot(data=country_category_counts, x='count', y='country', hue='category')\n",
        "\n",
        "for container in ax.containers:\n",
        "    ax.bar_label(container, fmt='%.0f', label_type='edge', padding=3,fontproperties=font_prop)\n",
        "\n",
        "plt.title(get_display(arabic_reshaper.reshape('عدد الاستماعات لكل فئة حسب الدولة')),fontproperties=font_prop)\n",
        "plt.xlabel(get_display(arabic_reshaper.reshape('عدد الاستماعات')),fontproperties=font_prop)\n",
        "plt.ylabel(get_display(arabic_reshaper.reshape('الفئة')),fontproperties=font_prop)\n",
        "plt.legend(title=get_display(arabic_reshaper.reshape('التصنيف')))\n",
        "legend.get_title().set_fontproperties(font_prop)\n",
        "plt.tight_layout()\n",
        "plt.savefig('5-2-Top_listening_countries.png')\n",
        "plt.show()\n"
      ],
      "metadata": {
        "colab": {
          "base_uri": "https://localhost:8080/",
          "height": 707
        },
        "id": "hP2SAjUJGRqk",
        "outputId": "18ea8259-9d5a-4ce9-ef2f-e5bcc63e5f3b"
      },
      "execution_count": 16,
      "outputs": [
        {
          "output_type": "display_data",
          "data": {
            "text/plain": [
              "<Figure size 1400x700 with 1 Axes>"
            ],
            "image/png": "[encoded data removed]"
          },
          "metadata": {}
        }
      ]
    },
    {
      "cell_type": "markdown",
      "source": [
        "The age of our listeners and how can we categorize them?"
      ],
      "metadata": {
        "id": "J0ywjv7gQddg"
      }
    },
    {
      "cell_type": "code",
      "source": [
        "youngest_listener=user_episode_df['age'].min()\n",
        "oldest_listener=user_episode_df['age'].max()\n",
        "print(f'The youngest listener to Thmanyah is {youngest_listener} years old')\n",
        "print(f'The oldest listener to Thmanyah is {oldest_listener} years old')"
      ],
      "metadata": {
        "colab": {
          "base_uri": "https://localhost:8080/"
        },
        "id": "1XrUt3ORQqwO",
        "outputId": "eb3232a1-daea-4ee4-9078-c1dfcedaa4d2"
      },
      "execution_count": 17,
      "outputs": [
        {
          "output_type": "stream",
          "name": "stdout",
          "text": [
            "The youngest listener to Thmanyah is 19 years old\n",
            "The oldest listener to Thmanyah is 59 years old\n"
          ]
        }
      ]
    },
    {
      "cell_type": "markdown",
      "source": [
        "Let's categorize the listeners to 8 groups:\n",
        "- 19-24 (at the age of University students)\n",
        "- 25-30\n",
        "- 31-36\n",
        "- 37-42\n",
        "- 43-48\n",
        "- 49-54\n",
        "- 55 and above"
      ],
      "metadata": {
        "id": "DGqfECzFR17g"
      }
    },
    {
      "cell_type": "code",
      "source": [
        "def categorize_age(age):\n",
        "    if 19 <= age <= 24:\n",
        "        return '19-24'\n",
        "    elif 25 <= age <= 30:\n",
        "        return '25-30'\n",
        "    elif 31 <= age <= 36:\n",
        "        return '31-36'\n",
        "    elif 37 <= age <= 42:\n",
        "        return '37-42'\n",
        "    elif 43 <= age <= 48:\n",
        "        return '43-48'\n",
        "    elif 49 <= age <= 54:\n",
        "        return '49-54'\n",
        "    elif age >= 55:\n",
        "        return '55+'\n",
        "    else:\n",
        "        return 'ُUnknown'"
      ],
      "metadata": {
        "id": "qxU67NcnOhOX"
      },
      "execution_count": 18,
      "outputs": []
    },
    {
      "cell_type": "code",
      "source": [
        "user_episode_df['age_group'] = user_episode_df['age'].apply(categorize_age)\n",
        "user_episode_df"
      ],
      "metadata": {
        "colab": {
          "base_uri": "https://localhost:8080/",
          "height": 424
        },
        "id": "7q9aJlzZQYJj",
        "outputId": "6fbaff62-2041-4d59-8326-d945d90da9b3"
      },
      "execution_count": 19,
      "outputs": [
        {
          "output_type": "execute_result",
          "data": {
            "text/plain": [
              "    user_id  episode_id  duration_seconds       title    category  age  \\\n",
              "0        16          30                60  Episode 30      Sports   24   \n",
              "1         6           8               120   Episode 8      Sports   59   \n",
              "2         6          13                60  Episode 13     Society   59   \n",
              "3         6          27              1500  Episode 27        News   59   \n",
              "4        17           9              1500   Episode 9      Sports   21   \n",
              "..      ...         ...               ...         ...         ...  ...   \n",
              "82       16          28               900  Episode 28        News   24   \n",
              "83       19           9                60   Episode 9      Sports   42   \n",
              "84       12           2              1500   Episode 2  Technology   52   \n",
              "85        1           1              1800   Episode 1    Religion   38   \n",
              "86       15          16               900  Episode 16    Politics   42   \n",
              "\n",
              "    gender       country age_group  \n",
              "0   female  Saudi Arabia     19-24  \n",
              "1     male       Morocco       55+  \n",
              "2     male       Morocco       55+  \n",
              "3     male       Morocco       55+  \n",
              "4     male  Saudi Arabia     19-24  \n",
              "..     ...           ...       ...  \n",
              "82  female  Saudi Arabia     19-24  \n",
              "83    male         Egypt     37-42  \n",
              "84  female        Jordan     49-54  \n",
              "85  female       Morocco     37-42  \n",
              "86    male           UAE     37-42  \n",
              "\n",
              "[87 rows x 9 columns]"
            ],
            "text/html": [
              "\n",
              "  <div id=\"df-95ce46f8-7203-4cea-b75b-940843dbfced\" class=\"colab-df-container\">\n",
              "    <div>\n",
              "<style scoped>\n",
              "    .dataframe tbody tr th:only-of-type {\n",
              "        vertical-align: middle;\n",
              "    }\n",
              "\n",
              "    .dataframe tbody tr th {\n",
              "        vertical-align: top;\n",
              "    }\n",
              "\n",
              "    .dataframe thead th {\n",
              "        text-align: right;\n",
              "    }\n",
              "</style>\n",
              "<table border=\"1\" class=\"dataframe\">\n",
              "  <thead>\n",
              "    <tr style=\"text-align: right;\">\n",
              "      <th></th>\n",
              "      <th>user_id</th>\n",
              "      <th>episode_id</th>\n",
              "      <th>duration_seconds</th>\n",
              "      <th>title</th>\n",
              "      <th>category</th>\n",
              "      <th>age</th>\n",
              "      <th>gender</th>\n",
              "      <th>country</th>\n",
              "      <th>age_group</th>\n",
              "    </tr>\n",
              "  </thead>\n",
              "  <tbody>\n",
              "    <tr>\n",
              "      <th>0</th>\n",
              "      <td>16</td>\n",
              "      <td>30</td>\n",
              "      <td>60</td>\n",
              "      <td>Episode 30</td>\n",
              "      <td>Sports</td>\n",
              "      <td>24</td>\n",
              "      <td>female</td>\n",
              "      <td>Saudi Arabia</td>\n",
              "      <td>19-24</td>\n",
              "    </tr>\n",
              "    <tr>\n",
              "      <th>1</th>\n",
              "      <td>6</td>\n",
              "      <td>8</td>\n",
              "      <td>120</td>\n",
              "      <td>Episode 8</td>\n",
              "      <td>Sports</td>\n",
              "      <td>59</td>\n",
              "      <td>male</td>\n",
              "      <td>Morocco</td>\n",
              "      <td>55+</td>\n",
              "    </tr>\n",
              "    <tr>\n",
              "      <th>2</th>\n",
              "      <td>6</td>\n",
              "      <td>13</td>\n",
              "      <td>60</td>\n",
              "      <td>Episode 13</td>\n",
              "      <td>Society</td>\n",
              "      <td>59</td>\n",
              "      <td>male</td>\n",
              "      <td>Morocco</td>\n",
              "      <td>55+</td>\n",
              "    </tr>\n",
              "    <tr>\n",
              "      <th>3</th>\n",
              "      <td>6</td>\n",
              "      <td>27</td>\n",
              "      <td>1500</td>\n",
              "      <td>Episode 27</td>\n",
              "      <td>News</td>\n",
              "      <td>59</td>\n",
              "      <td>male</td>\n",
              "      <td>Morocco</td>\n",
              "      <td>55+</td>\n",
              "    </tr>\n",
              "    <tr>\n",
              "      <th>4</th>\n",
              "      <td>17</td>\n",
              "      <td>9</td>\n",
              "      <td>1500</td>\n",
              "      <td>Episode 9</td>\n",
              "      <td>Sports</td>\n",
              "      <td>21</td>\n",
              "      <td>male</td>\n",
              "      <td>Saudi Arabia</td>\n",
              "      <td>19-24</td>\n",
              "    </tr>\n",
              "    <tr>\n",
              "      <th>...</th>\n",
              "      <td>...</td>\n",
              "      <td>...</td>\n",
              "      <td>...</td>\n",
              "      <td>...</td>\n",
              "      <td>...</td>\n",
              "      <td>...</td>\n",
              "      <td>...</td>\n",
              "      <td>...</td>\n",
              "      <td>...</td>\n",
              "    </tr>\n",
              "    <tr>\n",
              "      <th>82</th>\n",
              "      <td>16</td>\n",
              "      <td>28</td>\n",
              "      <td>900</td>\n",
              "      <td>Episode 28</td>\n",
              "      <td>News</td>\n",
              "      <td>24</td>\n",
              "      <td>female</td>\n",
              "      <td>Saudi Arabia</td>\n",
              "      <td>19-24</td>\n",
              "    </tr>\n",
              "    <tr>\n",
              "      <th>83</th>\n",
              "      <td>19</td>\n",
              "      <td>9</td>\n",
              "      <td>60</td>\n",
              "      <td>Episode 9</td>\n",
              "      <td>Sports</td>\n",
              "      <td>42</td>\n",
              "      <td>male</td>\n",
              "      <td>Egypt</td>\n",
              "      <td>37-42</td>\n",
              "    </tr>\n",
              "    <tr>\n",
              "      <th>84</th>\n",
              "      <td>12</td>\n",
              "      <td>2</td>\n",
              "      <td>1500</td>\n",
              "      <td>Episode 2</td>\n",
              "      <td>Technology</td>\n",
              "      <td>52</td>\n",
              "      <td>female</td>\n",
              "      <td>Jordan</td>\n",
              "      <td>49-54</td>\n",
              "    </tr>\n",
              "    <tr>\n",
              "      <th>85</th>\n",
              "      <td>1</td>\n",
              "      <td>1</td>\n",
              "      <td>1800</td>\n",
              "      <td>Episode 1</td>\n",
              "      <td>Religion</td>\n",
              "      <td>38</td>\n",
              "      <td>female</td>\n",
              "      <td>Morocco</td>\n",
              "      <td>37-42</td>\n",
              "    </tr>\n",
              "    <tr>\n",
              "      <th>86</th>\n",
              "      <td>15</td>\n",
              "      <td>16</td>\n",
              "      <td>900</td>\n",
              "      <td>Episode 16</td>\n",
              "      <td>Politics</td>\n",
              "      <td>42</td>\n",
              "      <td>male</td>\n",
              "      <td>UAE</td>\n",
              "      <td>37-42</td>\n",
              "    </tr>\n",
              "  </tbody>\n",
              "</table>\n",
              "<p>87 rows × 9 columns</p>\n",
              "</div>\n",
              "    <div class=\"colab-df-buttons\">\n",
              "\n",
              "  <div class=\"colab-df-container\">\n",
              "    <button class=\"colab-df-convert\" onclick=\"convertToInteractive('df-95ce46f8-7203-4cea-b75b-940843dbfced')\"\n",
              "            title=\"Convert this dataframe to an interactive table.\"\n",
              "            style=\"display:none;\">\n",
              "\n",
              "  <svg xmlns=\"http://www.w3.org/2000/svg\" height=\"24px\" viewBox=\"0 -960 960 960\">\n",
              "    <path d=\"M120-120v-720h720v720H120Zm60-500h600v-160H180v160Zm220 220h160v-160H400v160Zm0 220h160v-160H400v160ZM180-400h160v-160H180v160Zm440 0h160v-160H620v160ZM180-180h160v-160H180v160Zm440 0h160v-160H620v160Z\"/>\n",
              "  </svg>\n",
              "    </button>\n",
              "\n",
              "  <style>\n",
              "    .colab-df-container {\n",
              "      display:flex;\n",
              "      gap: 12px;\n",
              "    }\n",
              "\n",
              "    .colab-df-convert {\n",
              "      background-color: #E8F0FE;\n",
              "      border: none;\n",
              "      border-radius: 50%;\n",
              "      cursor: pointer;\n",
              "      display: none;\n",
              "      fill: #1967D2;\n",
              "      height: 32px;\n",
              "      padding: 0 0 0 0;\n",
              "      width: 32px;\n",
              "    }\n",
              "\n",
              "    .colab-df-convert:hover {\n",
              "      background-color: #E2EBFA;\n",
              "      box-shadow: 0px 1px 2px rgba(60, 64, 67, 0.3), 0px 1px 3px 1px rgba(60, 64, 67, 0.15);\n",
              "      fill: #174EA6;\n",
              "    }\n",
              "\n",
              "    .colab-df-buttons div {\n",
              "      margin-bottom: 4px;\n",
              "    }\n",
              "\n",
              "    [theme=dark] .colab-df-convert {\n",
              "      background-color: #3B4455;\n",
              "      fill: #D2E3FC;\n",
              "    }\n",
              "\n",
              "    [theme=dark] .colab-df-convert:hover {\n",
              "      background-color: #434B5C;\n",
              "      box-shadow: 0px 1px 3px 1px rgba(0, 0, 0, 0.15);\n",
              "      filter: drop-shadow(0px 1px 2px rgba(0, 0, 0, 0.3));\n",
              "      fill: #FFFFFF;\n",
              "    }\n",
              "  </style>\n",
              "\n",
              "    <script>\n",
              "      const buttonEl =\n",
              "        document.querySelector('#df-95ce46f8-7203-4cea-b75b-940843dbfced button.colab-df-convert');\n",
              "      buttonEl.style.display =\n",
              "        google.colab.kernel.accessAllowed ? 'block' : 'none';\n",
              "\n",
              "      async function convertToInteractive(key) {\n",
              "        const element = document.querySelector('#df-95ce46f8-7203-4cea-b75b-940843dbfced');\n",
              "        const dataTable =\n",
              "          await google.colab.kernel.invokeFunction('convertToInteractive',\n",
              "                                                    [key], {});\n",
              "        if (!dataTable) return;\n",
              "\n",
              "        const docLinkHtml = 'Like what you see? Visit the ' +\n",
              "          '<a target=\"_blank\" href=https://colab.research.google.com/notebooks/data_table.ipynb>data table notebook</a>'\n",
              "          + ' to learn more about interactive tables.';\n",
              "        element.innerHTML = '';\n",
              "        dataTable['output_type'] = 'display_data';\n",
              "        await google.colab.output.renderOutput(dataTable, element);\n",
              "        const docLink = document.createElement('div');\n",
              "        docLink.innerHTML = docLinkHtml;\n",
              "        element.appendChild(docLink);\n",
              "      }\n",
              "    </script>\n",
              "  </div>\n",
              "\n",
              "\n",
              "    <div id=\"df-ae38f3b5-6bdc-4523-97fb-ca3772e72079\">\n",
              "      <button class=\"colab-df-quickchart\" onclick=\"quickchart('df-ae38f3b5-6bdc-4523-97fb-ca3772e72079')\"\n",
              "                title=\"Suggest charts\"\n",
              "                style=\"display:none;\">\n",
              "\n",
              "<svg xmlns=\"http://www.w3.org/2000/svg\" height=\"24px\"viewBox=\"0 0 24 24\"\n",
              "     width=\"24px\">\n",
              "    <g>\n",
              "        <path d=\"M19 3H5c-1.1 0-2 .9-2 2v14c0 1.1.9 2 2 2h14c1.1 0 2-.9 2-2V5c0-1.1-.9-2-2-2zM9 17H7v-7h2v7zm4 0h-2V7h2v10zm4 0h-2v-4h2v4z\"/>\n",
              "    </g>\n",
              "</svg>\n",
              "      </button>\n",
              "\n",
              "<style>\n",
              "  .colab-df-quickchart {\n",
              "      --bg-color: #E8F0FE;\n",
              "      --fill-color: #1967D2;\n",
              "      --hover-bg-color: #E2EBFA;\n",
              "      --hover-fill-color: #174EA6;\n",
              "      --disabled-fill-color: #AAA;\n",
              "      --disabled-bg-color: #DDD;\n",
              "  }\n",
              "\n",
              "  [theme=dark] .colab-df-quickchart {\n",
              "      --bg-color: #3B4455;\n",
              "      --fill-color: #D2E3FC;\n",
              "      --hover-bg-color: #434B5C;\n",
              "      --hover-fill-color: #FFFFFF;\n",
              "      --disabled-bg-color: #3B4455;\n",
              "      --disabled-fill-color: #666;\n",
              "  }\n",
              "\n",
              "  .colab-df-quickchart {\n",
              "    background-color: var(--bg-color);\n",
              "    border: none;\n",
              "    border-radius: 50%;\n",
              "    cursor: pointer;\n",
              "    display: none;\n",
              "    fill: var(--fill-color);\n",
              "    height: 32px;\n",
              "    padding: 0;\n",
              "    width: 32px;\n",
              "  }\n",
              "\n",
              "  .colab-df-quickchart:hover {\n",
              "    background-color: var(--hover-bg-color);\n",
              "    box-shadow: 0 1px 2px rgba(60, 64, 67, 0.3), 0 1px 3px 1px rgba(60, 64, 67, 0.15);\n",
              "    fill: var(--button-hover-fill-color);\n",
              "  }\n",
              "\n",
              "  .colab-df-quickchart-complete:disabled,\n",
              "  .colab-df-quickchart-complete:disabled:hover {\n",
              "    background-color: var(--disabled-bg-color);\n",
              "    fill: var(--disabled-fill-color);\n",
              "    box-shadow: none;\n",
              "  }\n",
              "\n",
              "  .colab-df-spinner {\n",
              "    border: 2px solid var(--fill-color);\n",
              "    border-color: transparent;\n",
              "    border-bottom-color: var(--fill-color);\n",
              "    animation:\n",
              "      spin 1s steps(1) infinite;\n",
              "  }\n",
              "\n",
              "  @keyframes spin {\n",
              "    0% {\n",
              "      border-color: transparent;\n",
              "      border-bottom-color: var(--fill-color);\n",
              "      border-left-color: var(--fill-color);\n",
              "    }\n",
              "    20% {\n",
              "      border-color: transparent;\n",
              "      border-left-color: var(--fill-color);\n",
              "      border-top-color: var(--fill-color);\n",
              "    }\n",
              "    30% {\n",
              "      border-color: transparent;\n",
              "      border-left-color: var(--fill-color);\n",
              "      border-top-color: var(--fill-color);\n",
              "      border-right-color: var(--fill-color);\n",
              "    }\n",
              "    40% {\n",
              "      border-color: transparent;\n",
              "      border-right-color: var(--fill-color);\n",
              "      border-top-color: var(--fill-color);\n",
              "    }\n",
              "    60% {\n",
              "      border-color: transparent;\n",
              "      border-right-color: var(--fill-color);\n",
              "    }\n",
              "    80% {\n",
              "      border-color: transparent;\n",
              "      border-right-color: var(--fill-color);\n",
              "      border-bottom-color: var(--fill-color);\n",
              "    }\n",
              "    90% {\n",
              "      border-color: transparent;\n",
              "      border-bottom-color: var(--fill-color);\n",
              "    }\n",
              "  }\n",
              "</style>\n",
              "\n",
              "      <script>\n",
              "        async function quickchart(key) {\n",
              "          const quickchartButtonEl =\n",
              "            document.querySelector('#' + key + ' button');\n",
              "          quickchartButtonEl.disabled = true;  // To prevent multiple clicks.\n",
              "          quickchartButtonEl.classList.add('colab-df-spinner');\n",
              "          try {\n",
              "            const charts = await google.colab.kernel.invokeFunction(\n",
              "                'suggestCharts', [key], {});\n",
              "          } catch (error) {\n",
              "            console.error('Error during call to suggestCharts:', error);\n",
              "          }\n",
              "          quickchartButtonEl.classList.remove('colab-df-spinner');\n",
              "          quickchartButtonEl.classList.add('colab-df-quickchart-complete');\n",
              "        }\n",
              "        (() => {\n",
              "          let quickchartButtonEl =\n",
              "            document.querySelector('#df-ae38f3b5-6bdc-4523-97fb-ca3772e72079 button');\n",
              "          quickchartButtonEl.style.display =\n",
              "            google.colab.kernel.accessAllowed ? 'block' : 'none';\n",
              "        })();\n",
              "      </script>\n",
              "    </div>\n",
              "\n",
              "  <div id=\"id_adfab3ad-b899-41f6-8964-82fb1803478f\">\n",
              "    <style>\n",
              "      .colab-df-generate {\n",
              "        background-color: #E8F0FE;\n",
              "        border: none;\n",
              "        border-radius: 50%;\n",
              "        cursor: pointer;\n",
              "        display: none;\n",
              "        fill: #1967D2;\n",
              "        height: 32px;\n",
              "        padding: 0 0 0 0;\n",
              "        width: 32px;\n",
              "      }\n",
              "\n",
              "      .colab-df-generate:hover {\n",
              "        background-color: #E2EBFA;\n",
              "        box-shadow: 0px 1px 2px rgba(60, 64, 67, 0.3), 0px 1px 3px 1px rgba(60, 64, 67, 0.15);\n",
              "        fill: #174EA6;\n",
              "      }\n",
              "\n",
              "      [theme=dark] .colab-df-generate {\n",
              "        background-color: #3B4455;\n",
              "        fill: #D2E3FC;\n",
              "      }\n",
              "\n",
              "      [theme=dark] .colab-df-generate:hover {\n",
              "        background-color: #434B5C;\n",
              "        box-shadow: 0px 1px 3px 1px rgba(0, 0, 0, 0.15);\n",
              "        filter: drop-shadow(0px 1px 2px rgba(0, 0, 0, 0.3));\n",
              "        fill: #FFFFFF;\n",
              "      }\n",
              "    </style>\n",
              "    <button class=\"colab-df-generate\" onclick=\"generateWithVariable('user_episode_df')\"\n",
              "            title=\"Generate code using this dataframe.\"\n",
              "            style=\"display:none;\">\n",
              "\n",
              "  <svg xmlns=\"http://www.w3.org/2000/svg\" height=\"24px\"viewBox=\"0 0 24 24\"\n",
              "       width=\"24px\">\n",
              "    <path d=\"M7,19H8.4L18.45,9,17,7.55,7,17.6ZM5,21V16.75L18.45,3.32a2,2,0,0,1,2.83,0l1.4,1.43a1.91,1.91,0,0,1,.58,1.4,1.91,1.91,0,0,1-.58,1.4L9.25,21ZM18.45,9,17,7.55Zm-12,3A5.31,5.31,0,0,0,4.9,8.1,5.31,5.31,0,0,0,1,6.5,5.31,5.31,0,0,0,4.9,4.9,5.31,5.31,0,0,0,6.5,1,5.31,5.31,0,0,0,8.1,4.9,5.31,5.31,0,0,0,12,6.5,5.46,5.46,0,0,0,6.5,12Z\"/>\n",
              "  </svg>\n",
              "    </button>\n",
              "    <script>\n",
              "      (() => {\n",
              "      const buttonEl =\n",
              "        document.querySelector('#id_adfab3ad-b899-41f6-8964-82fb1803478f button.colab-df-generate');\n",
              "      buttonEl.style.display =\n",
              "        google.colab.kernel.accessAllowed ? 'block' : 'none';\n",
              "\n",
              "      buttonEl.onclick = () => {\n",
              "        google.colab.notebook.generateWithVariable('user_episode_df');\n",
              "      }\n",
              "      })();\n",
              "    </script>\n",
              "  </div>\n",
              "\n",
              "    </div>\n",
              "  </div>\n"
            ],
            "application/vnd.google.colaboratory.intrinsic+json": {
              "type": "dataframe",
              "variable_name": "user_episode_df",
              "summary": "{\n  \"name\": \"user_episode_df\",\n  \"rows\": 87,\n  \"fields\": [\n    {\n      \"column\": \"user_id\",\n      \"properties\": {\n        \"dtype\": \"number\",\n        \"std\": 6,\n        \"min\": 1,\n        \"max\": 20,\n        \"num_unique_values\": 19,\n        \"samples\": [\n          16,\n          12,\n          5\n        ],\n        \"semantic_type\": \"\",\n        \"description\": \"\"\n      }\n    },\n    {\n      \"column\": \"episode_id\",\n      \"properties\": {\n        \"dtype\": \"number\",\n        \"std\": 9,\n        \"min\": 1,\n        \"max\": 30,\n        \"num_unique_values\": 27,\n        \"samples\": [\n          24,\n          12,\n          3\n        ],\n        \"semantic_type\": \"\",\n        \"description\": \"\"\n      }\n    },\n    {\n      \"column\": \"duration_seconds\",\n      \"properties\": {\n        \"dtype\": \"number\",\n        \"std\": 685,\n        \"min\": 60,\n        \"max\": 1800,\n        \"num_unique_values\": 6,\n        \"samples\": [\n          60,\n          120,\n          900\n        ],\n        \"semantic_type\": \"\",\n        \"description\": \"\"\n      }\n    },\n    {\n      \"column\": \"title\",\n      \"properties\": {\n        \"dtype\": \"category\",\n        \"num_unique_values\": 27,\n        \"samples\": [\n          \"Episode 24\",\n          \"Episode 12\",\n          \"Episode 3\"\n        ],\n        \"semantic_type\": \"\",\n        \"description\": \"\"\n      }\n    },\n    {\n      \"column\": \"category\",\n      \"properties\": {\n        \"dtype\": \"category\",\n        \"num_unique_values\": 6,\n        \"samples\": [\n          \"Sports\",\n          \"Society\",\n          \"Politics\"\n        ],\n        \"semantic_type\": \"\",\n        \"description\": \"\"\n      }\n    },\n    {\n      \"column\": \"age\",\n      \"properties\": {\n        \"dtype\": \"number\",\n        \"std\": 11,\n        \"min\": 19,\n        \"max\": 59,\n        \"num_unique_values\": 15,\n        \"samples\": [\n          51,\n          45,\n          24\n        ],\n        \"semantic_type\": \"\",\n        \"description\": \"\"\n      }\n    },\n    {\n      \"column\": \"gender\",\n      \"properties\": {\n        \"dtype\": \"category\",\n        \"num_unique_values\": 2,\n        \"samples\": [\n          \"male\",\n          \"female\"\n        ],\n        \"semantic_type\": \"\",\n        \"description\": \"\"\n      }\n    },\n    {\n      \"column\": \"country\",\n      \"properties\": {\n        \"dtype\": \"category\",\n        \"num_unique_values\": 5,\n        \"samples\": [\n          \"Morocco\",\n          \"Egypt\"\n        ],\n        \"semantic_type\": \"\",\n        \"description\": \"\"\n      }\n    },\n    {\n      \"column\": \"age_group\",\n      \"properties\": {\n        \"dtype\": \"category\",\n        \"num_unique_values\": 7,\n        \"samples\": [\n          \"19-24\",\n          \"55+\"\n        ],\n        \"semantic_type\": \"\",\n        \"description\": \"\"\n      }\n    }\n  ]\n}"
            }
          },
          "metadata": {},
          "execution_count": 19
        }
      ]
    },
    {
      "cell_type": "markdown",
      "source": [
        "### Q6: The most listening age group? <a name=\"q6\"></a>"
      ],
      "metadata": {
        "id": "BHH_DOpDwmjn"
      }
    },
    {
      "cell_type": "code",
      "source": [
        "age_group_counts = user_episode_df['age_group'].value_counts().sort_index()\n",
        "\n",
        "plt.figure(figsize=(10, 6))\n",
        "ax = sns.barplot(x=age_group_counts.index, y=age_group_counts.values, palette='viridis')\n",
        "\n",
        "for i, val in enumerate(age_group_counts.values):\n",
        "    ax.text(i, val, str(val), ha='center', va='bottom')\n",
        "\n",
        "plt.title(get_display(arabic_reshaper.reshape('عدد الاستماعات حسب الفئة العمرية')),fontproperties=font_prop)\n",
        "plt.xlabel(get_display(arabic_reshaper.reshape('الفئة العمرية')),fontproperties=font_prop)\n",
        "plt.ylabel(get_display(arabic_reshaper.reshape('عدد الاستماعات')),fontproperties=font_prop)\n",
        "plt.tight_layout()\n",
        "plt.savefig('6-Most_listening_age_group.png')\n",
        "plt.show()"
      ],
      "metadata": {
        "colab": {
          "base_uri": "https://localhost:8080/",
          "height": 607
        },
        "id": "1VhNXTsTS4Ze",
        "outputId": "80e37f9f-4c99-4da2-e370-bc94352adcb9"
      },
      "execution_count": 20,
      "outputs": [
        {
          "output_type": "display_data",
          "data": {
            "text/plain": [
              "<Figure size 1000x600 with 1 Axes>"
            ],
            "image/png": "[encoded data removed]"
          },
          "metadata": {}
        }
      ]
    },
    {
      "cell_type": "markdown",
      "source": [
        "### Q7: The most popular duration time for episodes? <a name=\"q7\"></a>"
      ],
      "metadata": {
        "id": "KMAzGHDQ2rd3"
      }
    },
    {
      "cell_type": "code",
      "source": [
        "duration_counts = user_episode_df['duration_seconds'].value_counts()\n",
        "\n",
        "plt.figure(figsize=(8, 5))\n",
        "ax= sns.barplot(x=(duration_counts.index//60).astype(str)+\" min\", y=duration_counts.values, edgecolor='black',palette='viridis')\n",
        "\n",
        "for i, val in enumerate(duration_counts.values):\n",
        "    ax.text(i, val, str(val), ha='center', va='bottom')\n",
        "\n",
        "plt.title(get_display(arabic_reshaper.reshape('عدد الاستماعات لكل مدة زمنية')), fontproperties=font_prop)\n",
        "plt.xlabel(get_display(arabic_reshaper.reshape('نوع المدة الزمنية')), fontproperties=font_prop)\n",
        "plt.ylabel(get_display(arabic_reshaper.reshape('عدد الاستماعات')), fontproperties=font_prop)\n",
        "\n",
        "plt.tight_layout()\n",
        "plt.savefig('7-Most_popular_duration_time_for_episodes.png')\n",
        "plt.show()"
      ],
      "metadata": {
        "colab": {
          "base_uri": "https://localhost:8080/",
          "height": 507
        },
        "id": "LLIJcH0pz1q0",
        "outputId": "1146cc51-25d0-42cf-f8bb-61ebd2753437"
      },
      "execution_count": 21,
      "outputs": [
        {
          "output_type": "display_data",
          "data": {
            "text/plain": [
              "<Figure size 800x500 with 1 Axes>"
            ],
            "image/png": "[encoded data removed]"
          },
          "metadata": {}
        }
      ]
    },
    {
      "cell_type": "markdown",
      "source": [
        "## **Lets do Recommendation!!** <a name=\"rec\"></a>\n"
      ],
      "metadata": {
        "id": "Db2HkS50cLvm"
      }
    },
    {
      "cell_type": "code",
      "source": [
        "def demo_rec(user_id,listens_df, users_df, possible_rec, top_k):\n",
        "  user_country = users_df[users_df['user_id'] == user_id].iloc[0]['country']\n",
        "  #similar users from the same country\n",
        "  similar_users = users_df[users_df['country'] == user_country].merge(listens_df, on='user_id')\n",
        "  #the similar users must have watch an episode from category that the user loves in {possible_rec}\n",
        "  similar_users = similar_users[similar_users['episode_id'].isin(possible_rec['episode_id'])]\n",
        "  #return the top_k watched episode that similar users watched\n",
        "  return similar_users.value_counts('episode_id').reset_index()['episode_id'][:top_k]\n",
        "\n",
        "\n",
        "def age_rec(user_id,listens_df, users_df, possible_rec, top_k):\n",
        "  user_age = users_df[users_df['user_id'] == user_id]['age'][0]\n",
        "  user_group = categorize_age(user_age)\n",
        "  if user_group == 'Unknown':\n",
        "    return pd.DataFrame() #empty dataframe\n",
        "  users = users_df.copy()\n",
        "  users['age_group'] = users['age'].apply(categorize_age)\n",
        "  #similar users from the same age group\n",
        "  similar_users = users[users['age_group'] == user_group].merge(listens_df, on='user_id')\n",
        "  #the similar users must have watch an episode from category that the user loves in {possible_rec}\n",
        "  similar_users = similar_users[similar_users['episode_id'].isin(possible_rec['episode_id'])]\n",
        "  #return the top_k watched episode that similar users watched\n",
        "  return similar_users.value_counts('episode_id').reset_index()['episode_id'][:top_k]"
      ],
      "metadata": {
        "id": "-QWIjbu0-VCH"
      },
      "execution_count": 23,
      "outputs": []
    },
    {
      "cell_type": "code",
      "source": [
        "def recommend_episodes(user_id: int, listens_df, episodes_df, users_df, method='random',top_k=3):\n",
        "\n",
        "    user_episodes = listens_df[listens_df['user_id'] == user_id]\n",
        "    fav_category = user_episodes.merge(episodes_df, on='episode_id', how='left')['category'].value_counts().reset_index()['category'][0]\n",
        "    list_episodes = episodes_df[episodes_df['category'] == fav_category]\n",
        "    possible_rec = list_episodes[~list_episodes['episode_id'].isin(user_episodes['episode_id'])]\n",
        "\n",
        "    if possible_rec.empty:\n",
        "        return []\n",
        "\n",
        "    if method == 'demography':\n",
        "        recommendation= demo_rec(user_id,listens_df,users_df, possible_rec, top_k)\n",
        "\n",
        "    if method == 'age':\n",
        "        user_age = users_df[users_df['user_id'] == user_id]['age'][0]\n",
        "        user_group = categorize_age(user_age)\n",
        "        if user_group == 'Unknown':\n",
        "            return pd.DataFrame() #empty dataframe\n",
        "        users = users_df.copy()\n",
        "        users['age_group'] = users['age'].apply(categorize_age)\n",
        "        #similar users from the same age group\n",
        "        similar_users = users[users['age_group'] == user_group].merge(listens_df, on='user_id')\n",
        "        #the similar users must have watch an episode from category that the user loves in {possible_rec}\n",
        "        similar_users = similar_users[similar_users['episode_id'].isin(possible_rec['episode_id'])]\n",
        "        #get the top_k watched episode that similar users watched\n",
        "        recommendation= similar_users.value_counts('episode_id').reset_index()['episode_id'][:top_k]\n",
        "\n",
        "    #suggest random recommendation if demo or age recommendation is empty list\n",
        "    if method == 'random' or recommendation.empty:\n",
        "        recommendation = possible_rec['episode_id'].sample(n=min(top_k,len(possible_rec)))\n",
        "\n",
        "    return recommendation"
      ],
      "metadata": {
        "id": "WNX986bpS9M5"
      },
      "execution_count": 24,
      "outputs": []
    },
    {
      "cell_type": "code",
      "source": [
        "recommend_episodes(user_id=1, listens_df=listens_df, episodes_df=episodes_df,users_df=users_df, method='random')"
      ],
      "metadata": {
        "colab": {
          "base_uri": "https://localhost:8080/",
          "height": 178
        },
        "id": "AnSOjZPHx6dj",
        "outputId": "12de8f35-f319-405e-9dbb-f5f9981c5b1b"
      },
      "execution_count": 25,
      "outputs": [
        {
          "output_type": "execute_result",
          "data": {
            "text/plain": [
              "22    23\n",
              "10    11\n",
              "8      9\n",
              "Name: episode_id, dtype: int64"
            ],
            "text/html": [
              "<div>\n",
              "<style scoped>\n",
              "    .dataframe tbody tr th:only-of-type {\n",
              "        vertical-align: middle;\n",
              "    }\n",
              "\n",
              "    .dataframe tbody tr th {\n",
              "        vertical-align: top;\n",
              "    }\n",
              "\n",
              "    .dataframe thead th {\n",
              "        text-align: right;\n",
              "    }\n",
              "</style>\n",
              "<table border=\"1\" class=\"dataframe\">\n",
              "  <thead>\n",
              "    <tr style=\"text-align: right;\">\n",
              "      <th></th>\n",
              "      <th>episode_id</th>\n",
              "    </tr>\n",
              "  </thead>\n",
              "  <tbody>\n",
              "    <tr>\n",
              "      <th>22</th>\n",
              "      <td>23</td>\n",
              "    </tr>\n",
              "    <tr>\n",
              "      <th>10</th>\n",
              "      <td>11</td>\n",
              "    </tr>\n",
              "    <tr>\n",
              "      <th>8</th>\n",
              "      <td>9</td>\n",
              "    </tr>\n",
              "  </tbody>\n",
              "</table>\n",
              "</div><br><label><b>dtype:</b> int64</label>"
            ]
          },
          "metadata": {},
          "execution_count": 25
        }
      ]
    },
    {
      "cell_type": "markdown",
      "source": [
        "##### Demography-based Personalized Recommendation Query <a name=\"demo\"></a>"
      ],
      "metadata": {
        "id": "DhzYcYPHxdgb"
      }
    },
    {
      "cell_type": "code",
      "source": [
        "recommend_episodes(user_id=1, listens_df=listens_df, episodes_df=episodes_df,users_df=users_df, method='demography')"
      ],
      "metadata": {
        "colab": {
          "base_uri": "https://localhost:8080/",
          "height": 178
        },
        "id": "k_WnedMFx_jV",
        "outputId": "61bd2915-7015-463c-b177-57b26d516bb3"
      },
      "execution_count": 26,
      "outputs": [
        {
          "output_type": "execute_result",
          "data": {
            "text/plain": [
              "0    17\n",
              "1    23\n",
              "2    25\n",
              "Name: episode_id, dtype: int64"
            ],
            "text/html": [
              "<div>\n",
              "<style scoped>\n",
              "    .dataframe tbody tr th:only-of-type {\n",
              "        vertical-align: middle;\n",
              "    }\n",
              "\n",
              "    .dataframe tbody tr th {\n",
              "        vertical-align: top;\n",
              "    }\n",
              "\n",
              "    .dataframe thead th {\n",
              "        text-align: right;\n",
              "    }\n",
              "</style>\n",
              "<table border=\"1\" class=\"dataframe\">\n",
              "  <thead>\n",
              "    <tr style=\"text-align: right;\">\n",
              "      <th></th>\n",
              "      <th>episode_id</th>\n",
              "    </tr>\n",
              "  </thead>\n",
              "  <tbody>\n",
              "    <tr>\n",
              "      <th>0</th>\n",
              "      <td>17</td>\n",
              "    </tr>\n",
              "    <tr>\n",
              "      <th>1</th>\n",
              "      <td>23</td>\n",
              "    </tr>\n",
              "    <tr>\n",
              "      <th>2</th>\n",
              "      <td>25</td>\n",
              "    </tr>\n",
              "  </tbody>\n",
              "</table>\n",
              "</div><br><label><b>dtype:</b> int64</label>"
            ]
          },
          "metadata": {},
          "execution_count": 26
        }
      ]
    },
    {
      "cell_type": "markdown",
      "source": [
        "##### Age-based Personalized Recommendation Query <a name=\"age\"></a>"
      ],
      "metadata": {
        "id": "VGzUkJtcxuq9"
      }
    },
    {
      "cell_type": "code",
      "source": [
        "recommend_episodes(user_id=1, listens_df=listens_df, episodes_df=episodes_df,users_df=users_df, method='age')"
      ],
      "metadata": {
        "colab": {
          "base_uri": "https://localhost:8080/",
          "height": 178
        },
        "id": "dd8BuPALyClQ",
        "outputId": "68f9a189-cb07-45b0-d0d6-f7e247b94e8c"
      },
      "execution_count": 27,
      "outputs": [
        {
          "output_type": "execute_result",
          "data": {
            "text/plain": [
              "0     9\n",
              "1    12\n",
              "2    25\n",
              "Name: episode_id, dtype: int64"
            ],
            "text/html": [
              "<div>\n",
              "<style scoped>\n",
              "    .dataframe tbody tr th:only-of-type {\n",
              "        vertical-align: middle;\n",
              "    }\n",
              "\n",
              "    .dataframe tbody tr th {\n",
              "        vertical-align: top;\n",
              "    }\n",
              "\n",
              "    .dataframe thead th {\n",
              "        text-align: right;\n",
              "    }\n",
              "</style>\n",
              "<table border=\"1\" class=\"dataframe\">\n",
              "  <thead>\n",
              "    <tr style=\"text-align: right;\">\n",
              "      <th></th>\n",
              "      <th>episode_id</th>\n",
              "    </tr>\n",
              "  </thead>\n",
              "  <tbody>\n",
              "    <tr>\n",
              "      <th>0</th>\n",
              "      <td>9</td>\n",
              "    </tr>\n",
              "    <tr>\n",
              "      <th>1</th>\n",
              "      <td>12</td>\n",
              "    </tr>\n",
              "    <tr>\n",
              "      <th>2</th>\n",
              "      <td>25</td>\n",
              "    </tr>\n",
              "  </tbody>\n",
              "</table>\n",
              "</div><br><label><b>dtype:</b> int64</label>"
            ]
          },
          "metadata": {},
          "execution_count": 27
        }
      ]
    },
    {
      "cell_type": "markdown",
      "source": [
        "Thank you for seeing the code!!<br><br>\n",
        "**Author:** Lama AlQarni"
      ],
      "metadata": {
        "id": "1lSN16PlyyEY"
      }
    }
  ]
}